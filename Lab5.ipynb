{
  "cells": [
    {
      "cell_type": "markdown",
      "id": "8e8d1ed2-2db8-4c64-8aec-5aaf83efe6ae",
      "metadata": {
        "id": "8e8d1ed2-2db8-4c64-8aec-5aaf83efe6ae"
      },
      "source": [
        "# Introduction to Apache Spark\n",
        "The first thing that we will have to do is to install pyspark."
      ]
    },
    {
      "cell_type": "code",
      "execution_count": 1,
      "id": "eae1e017-d15c-4bfc-b015-e40317387c6e",
      "metadata": {
        "colab": {
          "base_uri": "https://localhost:8080/"
        },
        "id": "eae1e017-d15c-4bfc-b015-e40317387c6e",
        "outputId": "0f18ae95-1071-446a-b88e-d94104478723"
      },
      "outputs": [
        {
          "name": "stdout",
          "output_type": "stream",
          "text": [
            "Collecting pyspark\n",
            "  Downloading pyspark-3.5.1.tar.gz (317.0 MB)\n",
            "\u001b[2K     \u001b[90m━━━━━━━━━━━━━━━━━━━━━━━━━━━━━━━━━━━━━━━━\u001b[0m \u001b[32m317.0/317.0 MB\u001b[0m \u001b[31m4.5 MB/s\u001b[0m eta \u001b[36m0:00:00\u001b[0m\n",
            "\u001b[?25h  Preparing metadata (setup.py) ... \u001b[?25l\u001b[?25hdone\n",
            "Requirement already satisfied: py4j==0.10.9.7 in /usr/local/lib/python3.10/dist-packages (from pyspark) (0.10.9.7)\n",
            "Building wheels for collected packages: pyspark\n",
            "  Building wheel for pyspark (setup.py) ... \u001b[?25l\u001b[?25hdone\n",
            "  Created wheel for pyspark: filename=pyspark-3.5.1-py2.py3-none-any.whl size=317488493 sha256=0e4f83fbc61b6808d64508f5761f43e6764b83c00f2c39325c4f1c6dcda54ce9\n",
            "  Stored in directory: /root/.cache/pip/wheels/80/1d/60/2c256ed38dddce2fdd93be545214a63e02fbd8d74fb0b7f3a6\n",
            "Successfully built pyspark\n",
            "Installing collected packages: pyspark\n",
            "Successfully installed pyspark-3.5.1\n"
          ]
        }
      ],
      "source": [
        "# Install pyspark\n",
        "! pip3 install pyspark"
      ]
    },
    {
      "cell_type": "markdown",
      "id": "92d53b8d-3c00-43b0-a2e0-833c8a536725",
      "metadata": {
        "id": "92d53b8d-3c00-43b0-a2e0-833c8a536725"
      },
      "source": [
        "## Defining master within pyspark\n",
        "You can interact with Spark either by using SparkSession or SparkContext.\n",
        "\n",
        "To use SparkSession you can use the following code:\n",
        "\n",
        "<strong><span style=\"color:green\">from</span></strong> pyspark.sql <strong><span style=\"color:green\">import</span></strong> SparkSession\n",
        "\n",
        "spark = <span style=\"color:blue\">SparkSession</span>.<span style=\"color:blue\">builder</span>.<span style=\"color:blue\">appName</span>(\"SimpleApp\").<span style=\"color:blue\">master</span>(\"local\").<span style=\"color:blue\">getOrCreate</span>()"
      ]
    },
    {
      "cell_type": "code",
      "execution_count": 2,
      "id": "74530d67-6045-41a4-abd5-b8ef008b1f27",
      "metadata": {
        "id": "74530d67-6045-41a4-abd5-b8ef008b1f27"
      },
      "outputs": [],
      "source": [
        "from pyspark import SparkContext, SparkConf\n",
        "\n",
        "sconf = SparkConf().setAppName(\"App\").setMaster(\"local\")\n",
        "sc = SparkContext(conf=sconf)"
      ]
    },
    {
      "cell_type": "markdown",
      "id": "20dc3acf-ea98-41a4-bb9b-8f291dc87031",
      "metadata": {
        "id": "20dc3acf-ea98-41a4-bb9b-8f291dc87031"
      },
      "source": [
        "## RDD Example 1: Create a list that holds numbers from 1-5, and then print the array's elements that are smaller than 3.\n",
        "In case of wanting to use SparkSession instead then you should use it like this:\n",
        "\n",
        "distData = spark.<span style=\"color:blue\">SparkContext</span>.<span style=\"color:blue\">parallelize</span>(data)"
      ]
    },
    {
      "cell_type": "code",
      "execution_count": 3,
      "id": "7beae1d7-a10d-4e13-9d45-0cb1642b81a1",
      "metadata": {
        "colab": {
          "base_uri": "https://localhost:8080/"
        },
        "id": "7beae1d7-a10d-4e13-9d45-0cb1642b81a1",
        "outputId": "28a0ab6e-a981-4e0d-bbf5-7889a3ca8117"
      },
      "outputs": [
        {
          "name": "stdout",
          "output_type": "stream",
          "text": [
            "[1, 2]\n"
          ]
        }
      ],
      "source": [
        "# create a python list from 1-5\n",
        "data = [1, 2, 3, 4, 5]\n",
        "\n",
        "# create an RDD (parallelized - distributed collection) based on that data that can be operated on in parallel\n",
        "# this is also equal to what I am going to refer to as \"transform it into an rdd\"\n",
        "distData = sc.parallelize(data)\n",
        "\n",
        "# use a filter transformation to select values less than 3 and then action collect RDD contents back to driver in result variable\n",
        "# (File transformation returns a new dataset formed by selecting those elemtns of those source on which function returns true)\n",
        "result = distData.filter(lambda s: s<3).collect() # creates a new RDD\n",
        "print(result) # it should print [1, 2]\n"
      ]
    },
    {
      "cell_type": "markdown",
      "id": "8e54b5a5-5bc4-4d24-8f27-e90a12944d9a",
      "metadata": {
        "id": "8e54b5a5-5bc4-4d24-8f27-e90a12944d9a"
      },
      "source": [
        "### Equivalent Code in Simple Python"
      ]
    },
    {
      "cell_type": "code",
      "execution_count": 4,
      "id": "ccf44f1d-9c81-4506-9999-d8d19b940278",
      "metadata": {
        "colab": {
          "base_uri": "https://localhost:8080/"
        },
        "id": "ccf44f1d-9c81-4506-9999-d8d19b940278",
        "outputId": "38b2dc54-82ea-4d8c-849d-7c96b2c87f38"
      },
      "outputs": [
        {
          "name": "stdout",
          "output_type": "stream",
          "text": [
            "[1, 2]\n"
          ]
        }
      ],
      "source": [
        "result = [x for x in data if x < 3]\n",
        "print(result)"
      ]
    },
    {
      "cell_type": "markdown",
      "id": "7f5cff00-e06a-42a0-9b80-00962a662db9",
      "metadata": {
        "id": "7f5cff00-e06a-42a0-9b80-00962a662db9"
      },
      "source": [
        "## RDD Example 2: Word Count\n",
        "\n",
        "<strong>.map() Transformation: </strong>\n",
        "- Applies given function on <strong>on every element</strong> of the RDD & returns new RDD representing the results\n",
        "\n",
        "<strong>.flatMap() Transformation: </strong>\n",
        "- Same as map but instead of returning just one element per element <strong>returns a sequence per element</strong> (which can be empty) – flattens the results\n",
        "\n",
        "<strong>.reduce() Action: </strong>\n",
        "- Aggregates all elements of RDD using a given function and returns the final result to the driver program\n",
        "\n",
        "You can download pg4300.txt from [here](https://raw.githubusercontent.com/hustlijian/hadoop-tutorial/master/pg4300.txt), and upload it to google colab as we learned last time."
      ]
    },
    {
      "cell_type": "code",
      "execution_count": 5,
      "id": "9ea32340-4a90-4446-b208-df7358d1e598",
      "metadata": {
        "colab": {
          "base_uri": "https://localhost:8080/"
        },
        "id": "9ea32340-4a90-4446-b208-df7358d1e598",
        "outputId": "db8870aa-ac3c-4923-a698-f5b352827b0b"
      },
      "outputs": [
        {
          "name": "stdout",
          "output_type": "stream",
          "text": [
            "Done!\n"
          ]
        }
      ],
      "source": [
        "file = sc.textFile(\"pg4300.txt\")\n",
        "words = file.flatMap(lambda line: line.split(\" \")).map(lambda word: (word, 1)).reduceByKey(lambda a, b: a + b)\n",
        "\"\"\"\n",
        "saveAsTextFile saves the output into a text file in the same way hadoop does, meaning:\n",
        "it will output a folder locally by the name we gave as input (in our case it's \"output\"),\n",
        "and the result is inside the part-00000 file.\n",
        "If you run this cell twice, you will get an error, since it cannot override the folder, so you need to delete\n",
        "the files inside the folder, then the folder and run the cell again.\n",
        "\"\"\"\n",
        "words.saveAsTextFile(\"output\") # output folder on local fs\n",
        "print(\"Done!\")"
      ]
    },
    {
      "cell_type": "markdown",
      "id": "0f63f7d7-068a-4108-8dca-4ef9db3bf4aa",
      "metadata": {
        "id": "0f63f7d7-068a-4108-8dca-4ef9db3bf4aa"
      },
      "source": [
        "### Equivalent Code in Simple Python"
      ]
    },
    {
      "cell_type": "code",
      "execution_count": 6,
      "id": "5168febe-6498-4316-89cf-5dcf9e73f565",
      "metadata": {
        "colab": {
          "base_uri": "https://localhost:8080/"
        },
        "id": "5168febe-6498-4316-89cf-5dcf9e73f565",
        "outputId": "aa02523f-7c79-4550-d37d-aa61bbcac156"
      },
      "outputs": [
        {
          "name": "stdout",
          "output_type": "stream",
          "text": [
            "Done!\n"
          ]
        }
      ],
      "source": [
        "with open(\"pg4300.txt\") as f:\n",
        "    lines = f.readlines()\n",
        "\n",
        "words = []\n",
        "for line in lines:\n",
        "    line = line.strip()\n",
        "    words.extend(line.split(\" \"))\n",
        "\n",
        "word_counts = {}\n",
        "for word in words:\n",
        "    if word in word_counts:\n",
        "        word_counts[word] += 1\n",
        "    else:\n",
        "        word_counts[word] = 1\n",
        "\n",
        "with open(\"output.txt\", \"w\") as f:\n",
        "    for word, count in word_counts.items():\n",
        "        f.write(f\"('{word}', {count})\\n\")\n",
        "\n",
        "print(\"Done!\")"
      ]
    },
    {
      "cell_type": "markdown",
      "id": "249ac381-7194-4cad-a30d-89dba1ea1ffa",
      "metadata": {
        "id": "249ac381-7194-4cad-a30d-89dba1ea1ffa"
      },
      "source": [
        "## Hands-On! :)\n",
        "You can always visit this site to find pyspark RDD methods: https://spark.apache.org/docs/latest/api/python/reference/api/pyspark.RDD.html\n",
        "### Part 1\n",
        "1. Create an RDD based on the \"data\" list that is provided below.\n",
        "2. Count how many elements are in your RDD using the method .count()\n",
        "3. Print the elements that the RDD holds using the method .collect()\n",
        "4. Print the elements that the RDD holds using .foreach()\n",
        "5. Do the same as the 4th point, but now you have to print at the end of each word an exlamation mark as well (!)"
      ]
    },
    {
      "cell_type": "code",
      "execution_count": 7,
      "id": "61061877-4fc9-4360-90e7-1f3cfee6b29d",
      "metadata": {
        "id": "61061877-4fc9-4360-90e7-1f3cfee6b29d"
      },
      "outputs": [],
      "source": [
        "data = [\"tutorial\", \"learning\", \"spark\", \"pyspark\", \"python\", \"pyspark and spark\", \"data\", \"science\", \"university\", \"of\", \"cyprus\"]"
      ]
    },
    {
      "cell_type": "code",
      "execution_count": 8,
      "id": "fca84679-baae-4556-91cd-bb176128f6a7",
      "metadata": {
        "id": "fca84679-baae-4556-91cd-bb176128f6a7"
      },
      "outputs": [],
      "source": [
        "# TODO 1: Create an RDD based on the \"data\" list that is provided above.\n",
        "RDD = "
      ]
    },
    {
      "cell_type": "code",
      "execution_count": 9,
      "id": "d59149bb-2f17-4da6-ad2a-812f7892dac6",
      "metadata": {
        "colab": {
          "base_uri": "https://localhost:8080/"
        },
        "id": "d59149bb-2f17-4da6-ad2a-812f7892dac6",
        "outputId": "b44c6711-50e3-450c-e67b-fa27d5abc7bf"
      },
      "outputs": [
        {
          "data": {
            "text/plain": [
              "11"
            ]
          },
          "execution_count": 9,
          "metadata": {},
          "output_type": "execute_result"
        }
      ],
      "source": [
        "# TODO 2: Count how many elements are in your RDD using the method .count()"
      ]
    },
    {
      "cell_type": "code",
      "execution_count": 10,
      "id": "06b71d9f-d861-4710-bd70-3cf7a77a1122",
      "metadata": {
        "colab": {
          "base_uri": "https://localhost:8080/"
        },
        "id": "06b71d9f-d861-4710-bd70-3cf7a77a1122",
        "outputId": "8a99f0e7-c8a0-4225-fbed-894a1f93b30d"
      },
      "outputs": [
        {
          "data": {
            "text/plain": [
              "['tutorial',\n",
              " 'learning',\n",
              " 'spark',\n",
              " 'pyspark',\n",
              " 'python',\n",
              " 'pyspark and spark',\n",
              " 'data',\n",
              " 'science',\n",
              " 'university',\n",
              " 'of',\n",
              " 'cyprus']"
            ]
          },
          "execution_count": 10,
          "metadata": {},
          "output_type": "execute_result"
        }
      ],
      "source": [
        "# TODO 3: Print the elements that the RDD holds using the method .collect()"
      ]
    },
    {
      "cell_type": "code",
      "execution_count": 12,
      "id": "cc379309-fd3a-461e-96ab-6c78bcb0feaa",
      "metadata": {
        "id": "cc379309-fd3a-461e-96ab-6c78bcb0feaa"
      },
      "outputs": [],
      "source": [
        "# TODO 4: Print the elements that the RDD holds using .foreach() inside a file named \"step_4.txt\" using the step_4_print_in_file() method\n",
        "\"\"\"\n",
        "Normally, it is not a very good practice to print elements through foreach since the output will be printed to the executor logs\n",
        "(aka worker logs). So, in this case, if we want to view our data through foreach, we can save them inside a file instead.\n",
        "\"\"\"\n",
        "def step_4_print_in_file(x):\n",
        "    with open(\"step_4.txt\", \"a\") as f:\n",
        "        f.write(x + \"\\n\")\n",
        "\n",
        "RDD.\n"
      ]
    },
    {
      "cell_type": "code",
      "execution_count": 13,
      "id": "228c1931-3e76-4c92-badf-bf02fd382ac8",
      "metadata": {
        "id": "228c1931-3e76-4c92-badf-bf02fd382ac8"
      },
      "outputs": [],
      "source": [
        "# TODO 5: Do the same as the 4th point, but now you have to print at the end of each word an exlamation mark as well (!)\n",
        "\"\"\"\n",
        "The same applies for here as well.\n",
        "\"\"\"\n"
      ]
    },
    {
      "cell_type": "markdown",
      "id": "91ebd8e4-f849-4db7-a327-302e9ed1bf9d",
      "metadata": {
        "id": "91ebd8e4-f849-4db7-a327-302e9ed1bf9d"
      },
      "source": [
        "### Part 2\n",
        "Now we shall specify a new RDD using the list that is below and implement the following:\n",
        "\n",
        "1. Create a list that holds the numbers from 0-30 and transform it into an RDD.\n",
        "2. Multiply each element *3 and then print all elements (tip: use map())\n",
        "3. Do the 2nd point and then filter out (remove) the numbers that are equal and less than 30."
      ]
    },
    {
      "cell_type": "code",
      "execution_count": 14,
      "id": "b83e09fc-f631-4003-a380-00da91471787",
      "metadata": {
        "id": "b83e09fc-f631-4003-a380-00da91471787"
      },
      "outputs": [],
      "source": [
        "# TODO 1: Create a list that holds the numbers from 0-30 and transform it into an RDD.\n",
        "data2 = \n",
        "rdd2 = "
      ]
    },
    {
      "cell_type": "code",
      "execution_count": 15,
      "id": "3bcd0560-db0e-41bf-9650-e2f81a060689",
      "metadata": {
        "colab": {
          "base_uri": "https://localhost:8080/"
        },
        "id": "3bcd0560-db0e-41bf-9650-e2f81a060689",
        "outputId": "79ab5fe6-197d-447b-cc7c-a7574c368e5d"
      },
      "outputs": [
        {
          "data": {
            "text/plain": [
              "[0,\n",
              " 3,\n",
              " 6,\n",
              " 9,\n",
              " 12,\n",
              " 15,\n",
              " 18,\n",
              " 21,\n",
              " 24,\n",
              " 27,\n",
              " 30,\n",
              " 33,\n",
              " 36,\n",
              " 39,\n",
              " 42,\n",
              " 45,\n",
              " 48,\n",
              " 51,\n",
              " 54,\n",
              " 57,\n",
              " 60,\n",
              " 63,\n",
              " 66,\n",
              " 69,\n",
              " 72,\n",
              " 75,\n",
              " 78,\n",
              " 81,\n",
              " 84,\n",
              " 87]"
            ]
          },
          "execution_count": 15,
          "metadata": {},
          "output_type": "execute_result"
        }
      ],
      "source": [
        "# TODO 2: Multiply each element *3 and then print all elements (tip: use map())\n",
        "rdd2."
      ]
    },
    {
      "cell_type": "code",
      "execution_count": 16,
      "id": "4e358093-dd85-40f3-81a7-11fff1e36e50",
      "metadata": {
        "colab": {
          "base_uri": "https://localhost:8080/"
        },
        "id": "4e358093-dd85-40f3-81a7-11fff1e36e50",
        "outputId": "cd7d75be-1ff9-4baa-cadd-b65e7f94a93a"
      },
      "outputs": [
        {
          "data": {
            "text/plain": [
              "[30,\n",
              " 33,\n",
              " 36,\n",
              " 39,\n",
              " 42,\n",
              " 45,\n",
              " 48,\n",
              " 51,\n",
              " 54,\n",
              " 57,\n",
              " 60,\n",
              " 63,\n",
              " 66,\n",
              " 69,\n",
              " 72,\n",
              " 75,\n",
              " 78,\n",
              " 81,\n",
              " 84,\n",
              " 87]"
            ]
          },
          "execution_count": 16,
          "metadata": {},
          "output_type": "execute_result"
        }
      ],
      "source": [
        "# TODO 3: Do the 2nd point and then filter out (remove) the numbers that are equal and less than 30.\n",
        "rdd2."
      ]
    },
    {
      "cell_type": "markdown",
      "id": "d158e9ff-6e3c-4a6c-b6a0-9d0a6f35f2ed",
      "metadata": {
        "id": "d158e9ff-6e3c-4a6c-b6a0-9d0a6f35f2ed"
      },
      "source": [
        "### Part 3\n",
        "1. Create an RDD based using the randomized data2.\n",
        "2. Print the contents of the RDD\n",
        "3. Print only the first element of the RDD\n",
        "4. Print the RDD's max element\n",
        "5. Print the RDD's min element\n",
        "6. Print only the first 10 elements of the RDD."
      ]
    },
    {
      "cell_type": "code",
      "execution_count": 17,
      "id": "63f5ceb6-bb20-4bc3-9203-f76c2b24b93a",
      "metadata": {
        "id": "63f5ceb6-bb20-4bc3-9203-f76c2b24b93a"
      },
      "outputs": [],
      "source": [
        "# Firstly, let's randomize the elements that the list you created in the previous part contains.\n",
        "import random\n",
        "random.shuffle(data2)"
      ]
    },
    {
      "cell_type": "code",
      "execution_count": 18,
      "id": "bbd0ef14-3ed8-4ef0-b4f7-615cf0a839be",
      "metadata": {
        "id": "bbd0ef14-3ed8-4ef0-b4f7-615cf0a839be"
      },
      "outputs": [],
      "source": [
        "# TODO 1: Create an RDD based using the randomized data2.\n",
        "rdd3 = "
      ]
    },
    {
      "cell_type": "code",
      "execution_count": 19,
      "id": "b0b7e608-db0f-4c35-8a53-de395e80fdab",
      "metadata": {
        "colab": {
          "base_uri": "https://localhost:8080/"
        },
        "id": "b0b7e608-db0f-4c35-8a53-de395e80fdab",
        "outputId": "b93169bb-7395-4fbf-e2fa-6fd241e9944b"
      },
      "outputs": [
        {
          "data": {
            "text/plain": [
              "[12,\n",
              " 21,\n",
              " 10,\n",
              " 27,\n",
              " 26,\n",
              " 22,\n",
              " 29,\n",
              " 1,\n",
              " 19,\n",
              " 2,\n",
              " 14,\n",
              " 17,\n",
              " 3,\n",
              " 15,\n",
              " 28,\n",
              " 18,\n",
              " 20,\n",
              " 9,\n",
              " 4,\n",
              " 11,\n",
              " 23,\n",
              " 8,\n",
              " 6,\n",
              " 13,\n",
              " 16,\n",
              " 5,\n",
              " 24,\n",
              " 25,\n",
              " 7,\n",
              " 0]"
            ]
          },
          "execution_count": 19,
          "metadata": {},
          "output_type": "execute_result"
        }
      ],
      "source": [
        "# TODO 3: Print the contents of the RDD (since it's random, don't expect to get the numbers in the same order as in the given notebook)\n",
        "rdd3."
      ]
    },
    {
      "cell_type": "code",
      "execution_count": 20,
      "id": "eece5d61-ad6b-4700-a6ce-0c15f7336776",
      "metadata": {
        "colab": {
          "base_uri": "https://localhost:8080/"
        },
        "id": "eece5d61-ad6b-4700-a6ce-0c15f7336776",
        "outputId": "3f8eb4fe-013f-486a-b7a0-7ba22c43c274"
      },
      "outputs": [
        {
          "data": {
            "text/plain": [
              "12"
            ]
          },
          "execution_count": 20,
          "metadata": {},
          "output_type": "execute_result"
        }
      ],
      "source": [
        "# TODO 4: Print only the first element of the RDD\n",
        "rdd3."
      ]
    },
    {
      "cell_type": "code",
      "execution_count": 21,
      "id": "796c33f0-2805-4d19-bd12-686a66e1ec20",
      "metadata": {
        "colab": {
          "base_uri": "https://localhost:8080/"
        },
        "id": "796c33f0-2805-4d19-bd12-686a66e1ec20",
        "outputId": "8ba07469-b21c-4a7f-e700-ecd695eb37e5"
      },
      "outputs": [
        {
          "data": {
            "text/plain": [
              "29"
            ]
          },
          "execution_count": 21,
          "metadata": {},
          "output_type": "execute_result"
        }
      ],
      "source": [
        "# TODO 5: Print the RDD's max element\n",
        "rdd3."
      ]
    },
    {
      "cell_type": "code",
      "execution_count": 22,
      "id": "b39e3daf-d0d6-46c4-9017-04412ae13fc1",
      "metadata": {
        "colab": {
          "base_uri": "https://localhost:8080/"
        },
        "id": "b39e3daf-d0d6-46c4-9017-04412ae13fc1",
        "outputId": "b8eadf21-43db-498b-be72-c32c9502284d"
      },
      "outputs": [
        {
          "data": {
            "text/plain": [
              "0"
            ]
          },
          "execution_count": 22,
          "metadata": {},
          "output_type": "execute_result"
        }
      ],
      "source": [
        "# TODO 6: Print the RDD's min element\n",
        "rdd3."
      ]
    },
    {
      "cell_type": "code",
      "execution_count": 23,
      "id": "50d27473-2967-45b5-9ee3-d6dd38094f22",
      "metadata": {
        "colab": {
          "base_uri": "https://localhost:8080/"
        },
        "id": "50d27473-2967-45b5-9ee3-d6dd38094f22",
        "outputId": "31da17a7-8053-4847-f538-5c2ef3d325a6"
      },
      "outputs": [
        {
          "data": {
            "text/plain": [
              "[12, 21, 10, 27, 26, 22, 29, 1, 19, 2]"
            ]
          },
          "execution_count": 23,
          "metadata": {},
          "output_type": "execute_result"
        }
      ],
      "source": [
        "# TODO 7: Print only the first 10 elements of the RDD. (tip: use the method .take())\n",
        "rdd3."
      ]
    },
    {
      "cell_type": "markdown",
      "id": "e10170ad-9642-45a8-8805-424885fccab9",
      "metadata": {
        "id": "e10170ad-9642-45a8-8805-424885fccab9"
      },
      "source": [
        "### Part 4\n",
        "Now let's move on something more complex:\n",
        "\n",
        "1. Create a python list that has the following words: [\"queue\", \"blade\", \"scrap\", \"class\", \"priority\", \"price\", \"random\", \"public\"]\n",
        "2. Transorm it into an RDD.\n",
        "3. Filter out the words that have less and equal to 5 characters"
      ]
    },
    {
      "cell_type": "code",
      "execution_count": 24,
      "id": "4d8e8210-298b-45b2-a018-2ad5c4b6b5b0",
      "metadata": {
        "id": "4d8e8210-298b-45b2-a018-2ad5c4b6b5b0"
      },
      "outputs": [],
      "source": [
        "# TODO 1: Create a python list that has the following words: [\"queue\", \"blade\", \"scrap\", \"class\", \"priority\", \"price\", \"random\", \"public\"]"
      ]
    },
    {
      "cell_type": "code",
      "execution_count": 25,
      "id": "b5258535-c1d9-43fa-9a5d-09f378c7f64f",
      "metadata": {
        "id": "b5258535-c1d9-43fa-9a5d-09f378c7f64f"
      },
      "outputs": [],
      "source": [
        "# TODO 2: Transorm it into an RDD.\n",
        "rdd4 = "
      ]
    },
    {
      "cell_type": "code",
      "execution_count": 26,
      "id": "040cc09c-2e45-46b6-a727-923384f1ec4b",
      "metadata": {
        "id": "040cc09c-2e45-46b6-a727-923384f1ec4b"
      },
      "outputs": [],
      "source": [
        "# TODO 3: Filter out the words that have less and equal to 5 characters\n",
        "result4 = "
      ]
    },
    {
      "cell_type": "code",
      "execution_count": 27,
      "id": "eea8453f-46cc-421b-8f62-49fea5095b2a",
      "metadata": {
        "colab": {
          "base_uri": "https://localhost:8080/"
        },
        "id": "eea8453f-46cc-421b-8f62-49fea5095b2a",
        "outputId": "bb0c12b7-cb4a-4797-b564-cdfce5903f58"
      },
      "outputs": [
        {
          "name": "stdout",
          "output_type": "stream",
          "text": [
            "['priority', 'random', 'public']\n"
          ]
        }
      ],
      "source": [
        "# Let's print the result\n",
        "print(result4)"
      ]
    },
    {
      "cell_type": "markdown",
      "id": "2125980a-784e-4050-9a64-ce5f2ef607a7",
      "metadata": {
        "id": "2125980a-784e-4050-9a64-ce5f2ef607a7"
      },
      "source": [
        "### Part 5\n",
        "Let's move on to the hardest part of our lab today. The program should calculate a file's total size of lines.\n",
        "\n",
        "1. Make an RDD the content's of the file \"[unixdict.txt](https://www.cs.ucy.ac.cy/~jgeorg02/dsc511/hadoop/unixdict.txt)\".\n",
        "2. Using a transformation or action method, change each element from to line to its size (line -> len(size))\n",
        "3. Using a transformation or action method summarize our elements into one element."
      ]
    },
    {
      "cell_type": "code",
      "execution_count": 28,
      "id": "21a0f449-ad7b-487b-8bed-1b1607fd7bee",
      "metadata": {
        "id": "21a0f449-ad7b-487b-8bed-1b1607fd7bee"
      },
      "outputs": [],
      "source": [
        "# TODO 1: Make an RDD the content's of the file \"unixdict.txt\"\n",
        "file = "
      ]
    },
    {
      "cell_type": "code",
      "execution_count": 29,
      "id": "fbd6167d-755c-4077-a04b-65e88a48ddd7",
      "metadata": {
        "id": "fbd6167d-755c-4077-a04b-65e88a48ddd7"
      },
      "outputs": [],
      "source": [
        "# TODO 2: Using a transformation or action method, change each element from to line to its size (line -> len(size))\n",
        "lineLengths = file."
      ]
    },
    {
      "cell_type": "code",
      "execution_count": 30,
      "id": "05f1bda2-188a-42a8-ba1b-67036eb57cfa",
      "metadata": {
        "id": "05f1bda2-188a-42a8-ba1b-67036eb57cfa"
      },
      "outputs": [],
      "source": [
        "# TODO 3: Using a transformation or action method summarize our elements into one element.\n",
        "totalLength = "
      ]
    },
    {
      "cell_type": "code",
      "execution_count": 31,
      "id": "9ae4a81c-d0a6-4890-bc77-5bcd4acd40e0",
      "metadata": {
        "colab": {
          "base_uri": "https://localhost:8080/"
        },
        "id": "9ae4a81c-d0a6-4890-bc77-5bcd4acd40e0",
        "outputId": "8d1fe9cf-1870-4a98-d851-92a322e73e6c"
      },
      "outputs": [
        {
          "name": "stdout",
          "output_type": "stream",
          "text": [
            "The result is:  181299\n"
          ]
        }
      ],
      "source": [
        "# Let's print the result\n",
        "print(\"The result is: \", totalLength)"
      ]
    },
    {
      "cell_type": "markdown",
      "id": "38d92fad-9f74-4a5d-8356-01509ca106bd",
      "metadata": {
        "id": "38d92fad-9f74-4a5d-8356-01509ca106bd"
      },
      "source": [
        "### Equivalent Code in Simple Python\n",
        "This code might not help you to implement it using Spark, but it might help you to understand what our code's algorithm does and to verify your result. :)"
      ]
    },
    {
      "cell_type": "code",
      "execution_count": 32,
      "id": "1e12820b-fc8d-4ea0-a327-9b1000bf0cb0",
      "metadata": {
        "colab": {
          "base_uri": "https://localhost:8080/"
        },
        "id": "1e12820b-fc8d-4ea0-a327-9b1000bf0cb0",
        "outputId": "130c4ba7-c444-450c-bdc9-2845224b5b26"
      },
      "outputs": [
        {
          "name": "stdout",
          "output_type": "stream",
          "text": [
            "The result is: 181299\n"
          ]
        }
      ],
      "source": [
        "with open(\"./unixdict.txt\", \"r\") as file:\n",
        "    lines = file.readlines()\n",
        "    # rstrip method is used to remove the newline character \"\\n\" from the end of each line,\n",
        "    # so that the line length accurately reflects the number of characters in the line\n",
        "    line_lengths = [len(line.rstrip(\"\\n\")) for line in lines]\n",
        "    total_length = sum(line_lengths)\n",
        "\n",
        "print(\"The result is:\", total_length)"
      ]
    },
    {
      "cell_type": "markdown",
      "id": "93e12350-dc06-440f-b455-dc62d0c145a1",
      "metadata": {
        "id": "93e12350-dc06-440f-b455-dc62d0c145a1"
      },
      "source": [
        "### Part 6: Palindrome Words\n",
        "Now let's revisit the Map-Reduce examples we saw last time.\n",
        "Our 2nd Map-Reduce example was to find all of the word that were palindrome and how many times did they appear in a file. Try and recreate this example using pySpark. :)\n",
        "\n",
        "There are several solutions for it but you can follow these steps:\n",
        "\n",
        "1. Make an RDD the content's of the file [palindrome_words.txt](https://www.cs.ucy.ac.cy/~jgeorg02/dsc511/hadoop/palindrome_words.txt)\n",
        "2. Apply Transformation or action on our RDD in order to return `(word.lower(), 1)` if it's palindrome, otherwise, `(word.lower(), 0)`\n",
        "3. Apply transformation or action on your RDD in order to reduce the and sum the number of times the palindrome word appeared.\n",
        "4. Print only 20 words with their number."
      ]
    },
    {
      "cell_type": "code",
      "execution_count": 54,
      "id": "1c87a590-20c3-48ce-92f3-2384fdd3ea65",
      "metadata": {
        "colab": {
          "base_uri": "https://localhost:8080/"
        },
        "id": "1c87a590-20c3-48ce-92f3-2384fdd3ea65",
        "outputId": "8fb30bf6-c325-42b0-d43b-41abaf3a0c52"
      },
      "outputs": [
        {
          "data": {
            "text/plain": [
              "[('radar', 2),\n",
              " ('level', 2),\n",
              " ('civic', 1),\n",
              " ('banana', 0),\n",
              " ('grape', 0),\n",
              " ('kayak', 6),\n",
              " ('rotor', 3),\n",
              " ('peach', 0),\n",
              " ('noon', 2),\n",
              " ('blueberry', 0),\n",
              " ('deed', 2),\n",
              " ('racecar', 2),\n",
              " ('pineapple', 0),\n",
              " ('tenet', 5),\n",
              " ('strawberry', 0),\n",
              " ('apple', 0),\n",
              " ('stats', 1),\n",
              " ('lemon', 0),\n",
              " ('orange', 0),\n",
              " ('watermelon', 0)]"
            ]
          },
          "execution_count": 54,
          "metadata": {},
          "output_type": "execute_result"
        }
      ],
      "source": [
        "# Define the mapper function\n",
        "def mapper(word):\n",
        "\n",
        "\n",
        "file = \n",
        "\n",
        "rdd6 = file.\n",
        "rdd6."
      ]
    },
    {
      "cell_type": "markdown",
      "id": "ece3e58a-fd5a-48a3-b46e-07d01cb578d7",
      "metadata": {
        "id": "ece3e58a-fd5a-48a3-b46e-07d01cb578d7"
      },
      "source": [
        "### Equivalent Code in using MRJob from our Last Lab\n",
        "This code might not help you to remember what do we want to map and reduce as to translate this into pySpark code. :)"
      ]
    },
    {
      "cell_type": "code",
      "execution_count": 35,
      "id": "7qJDVHR8NGoJ",
      "metadata": {
        "colab": {
          "base_uri": "https://localhost:8080/"
        },
        "id": "7qJDVHR8NGoJ",
        "outputId": "8645009b-cb1e-447c-e6e4-ff4b40d944ed"
      },
      "outputs": [
        {
          "name": "stdout",
          "output_type": "stream",
          "text": [
            "Collecting MRJob\n",
            "  Downloading mrjob-0.7.4-py2.py3-none-any.whl (439 kB)\n",
            "\u001b[?25l     \u001b[90m━━━━━━━━━━━━━━━━━━━━━━━━━━━━━━━━━━━━━━━━\u001b[0m \u001b[32m0.0/439.6 kB\u001b[0m \u001b[31m?\u001b[0m eta \u001b[36m-:--:--\u001b[0m\r\u001b[2K     \u001b[91m━━━━━━━━━━━━━\u001b[0m\u001b[91m╸\u001b[0m\u001b[90m━━━━━━━━━━━━━━━━━━━━━━━━━━\u001b[0m \u001b[32m153.6/439.6 kB\u001b[0m \u001b[31m4.4 MB/s\u001b[0m eta \u001b[36m0:00:01\u001b[0m\r\u001b[2K     \u001b[91m━━━━━━━━━━━━━━━━━━━━━━━━━━━━━━━━━━━━━━━\u001b[0m\u001b[90m╺\u001b[0m \u001b[32m430.1/439.6 kB\u001b[0m \u001b[31m7.1 MB/s\u001b[0m eta \u001b[36m0:00:01\u001b[0m\r\u001b[2K     \u001b[90m━━━━━━━━━━━━━━━━━━━━━━━━━━━━━━━━━━━━━━━━\u001b[0m \u001b[32m439.6/439.6 kB\u001b[0m \u001b[31m6.0 MB/s\u001b[0m eta \u001b[36m0:00:00\u001b[0m\n",
            "\u001b[?25hRequirement already satisfied: PyYAML>=3.10 in /usr/local/lib/python3.10/dist-packages (from MRJob) (6.0.1)\n",
            "Installing collected packages: MRJob\n",
            "Successfully installed MRJob-0.7.4\n"
          ]
        }
      ],
      "source": [
        "! pip install MRJob"
      ]
    },
    {
      "cell_type": "code",
      "execution_count": 51,
      "id": "6a91af91-a93a-4e57-9eda-6fb78dcabe21",
      "metadata": {
        "colab": {
          "base_uri": "https://localhost:8080/"
        },
        "id": "6a91af91-a93a-4e57-9eda-6fb78dcabe21",
        "outputId": "d5b8694f-d7bb-43fc-ec7f-e612a973de6c"
      },
      "outputs": [
        {
          "name": "stdout",
          "output_type": "stream",
          "text": [
            "Overwriting palindrome.py\n"
          ]
        }
      ],
      "source": [
        "%%file palindrome.py\n",
        "\n",
        "from mrjob.job import MRJob\n",
        "\n",
        "class MRPalindrome(MRJob):\n",
        "\n",
        "    def mapper(self, _, word):\n",
        "      # Check if word is palindrome\n",
        "      if word == word[::-1]:\n",
        "        yield (word.lower(), 1)\n",
        "      yield (word.lower(), 0)\n",
        "\n",
        "\n",
        "    def reducer(self, word, counts):\n",
        "      yield(word, sum(counts))"
      ]
    },
    {
      "cell_type": "code",
      "execution_count": 53,
      "id": "c4438d4e-b8cd-4608-ac22-82e1908aed19",
      "metadata": {
        "colab": {
          "base_uri": "https://localhost:8080/"
        },
        "id": "c4438d4e-b8cd-4608-ac22-82e1908aed19",
        "outputId": "3e30fc2d-646e-4c6e-ebdd-abeb99820ed3"
      },
      "outputs": [
        {
          "name": "stderr",
          "output_type": "stream",
          "text": [
            "WARNING:mrjob.conf:No configs specified for inline runner\n"
          ]
        },
        {
          "name": "stdout",
          "output_type": "stream",
          "text": [
            "radar 2\n",
            "rotor 3\n",
            "stats 1\n",
            "strawberry 0\n",
            "tenet 5\n",
            "lemon 0\n",
            "level 2\n",
            "noon 2\n",
            "orange 0\n",
            "peach 0\n",
            "pineapple 0\n",
            "racecar 2\n",
            "apple 0\n",
            "banana 0\n",
            "blueberry 0\n",
            "civic 1\n",
            "deed 2\n",
            "grape 0\n",
            "kayak 6\n",
            "watermelon 0\n"
          ]
        }
      ],
      "source": [
        "import palindrome\n",
        "#import importlib\n",
        "#importlib.reload(palindrome)\n",
        "\n",
        "def run_mr_job(mr_job):\n",
        "  # Create a runner for the MapReduce job\n",
        "  with mr_job.make_runner() as runner:\n",
        "      # Run the MapReduce job\n",
        "      runner.run()\n",
        "\n",
        "      # Iterate over the output of the MapReduce job\n",
        "      for key, value in mr_job.parse_output(runner.cat_output()):\n",
        "          # Print each key-value pair (word, count)\n",
        "          print(key, value)\n",
        "\n",
        "mr_job = palindrome.MRPalindrome(args=['palindrome_words.txt'])\n",
        "run_mr_job(mr_job)"
      ]
    }
  ],
  "metadata": {
    "colab": {
      "provenance": []
    },
    "kernelspec": {
      "display_name": "Python 3 (ipykernel)",
      "language": "python",
      "name": "python3"
    },
    "language_info": {
      "codemirror_mode": {
        "name": "ipython",
        "version": 3
      },
      "file_extension": ".py",
      "mimetype": "text/x-python",
      "name": "python",
      "nbconvert_exporter": "python",
      "pygments_lexer": "ipython3",
      "version": "3.9.13"
    }
  },
  "nbformat": 4,
  "nbformat_minor": 5
}
